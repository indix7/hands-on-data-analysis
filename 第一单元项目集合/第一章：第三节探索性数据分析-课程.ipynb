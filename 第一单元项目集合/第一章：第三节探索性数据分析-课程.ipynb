{
 "cells": [
  {
   "cell_type": "markdown",
   "metadata": {},
   "source": [
    "**复习：**在前面我们已经学习了Pandas基础，知道利用Pandas读取csv数据的增删查改，今天我们要学习的就是**探索性数据分析**，主要介绍如何利用Pandas进行排序、算术计算以及计算描述函数describe()的使用。"
   ]
  },
  {
   "cell_type": "markdown",
   "metadata": {},
   "source": [
    "# 1 第一章：探索性数据分析"
   ]
  },
  {
   "cell_type": "markdown",
   "metadata": {},
   "source": [
    "#### 开始之前，导入numpy、pandas包和数据"
   ]
  },
  {
   "cell_type": "code",
   "execution_count": 1,
   "metadata": {},
   "outputs": [],
   "source": [
    "#加载所需的库\n",
    "import numpy as np\n",
    "import pandas as pd"
   ]
  },
  {
   "cell_type": "code",
   "execution_count": 2,
   "metadata": {
    "scrolled": true
   },
   "outputs": [],
   "source": [
    "#载入之前保存的train_chinese.csv数据，关于泰坦尼克号的任务，我们就使用这个数据\n",
    "data = pd.read_csv(\"train.csv\")"
   ]
  },
  {
   "cell_type": "markdown",
   "metadata": {},
   "source": [
    "### 1.6 了解你的数据吗？\n",
    "教材《Python for Data Analysis》第五章"
   ]
  },
  {
   "cell_type": "markdown",
   "metadata": {},
   "source": [
    "#### 1.6.1 任务一：利用Pandas对示例数据进行排序，要求升序"
   ]
  },
  {
   "cell_type": "code",
   "execution_count": 3,
   "metadata": {},
   "outputs": [],
   "source": [
    "# 具体请看《利用Python进行数据分析》第五章 排序和排名 部分\n",
    "\n",
    "#自己构建一个都为数字的DataFrame数据\n",
    "\n",
    "'''\n",
    "我们举了一个例子\n",
    "pd.DataFrame() ：创建一个DataFrame对象 \n",
    "np.arange(8).reshape((2, 4)) : 生成一个二维数组（2*4）,第一列：0，1，2，3 第二列：4，5，6，7\n",
    "index=[2，1] ：DataFrame 对象的索引列\n",
    "columns=['d', 'a', 'b', 'c'] ：DataFrame 对象的索引行\n",
    "'''\n"
   ]
  },
  {
   "cell_type": "markdown",
   "metadata": {},
   "source": [
    "【代码解析】\n",
    "\n",
    "pd.DataFrame() ：创建一个DataFrame对象 \n",
    "\n",
    "np.arange(8).reshape((2, 4)) : 生成一个二维数组（2*4）,第一列：0，1，2，3 第二列：4，5，6，7\n",
    "\n",
    "index=['2, 1] ：DataFrame 对象的索引列\n",
    "\n",
    "columns=['d', 'a', 'b', 'c'] ：DataFrame 对象的索引行"
   ]
  },
  {
   "cell_type": "markdown",
   "metadata": {},
   "source": [
    "【问题】：大多数时候我们都是想根据列的值来排序,所以将你构建的DataFrame中的数据根据某一列，升序排列"
   ]
  },
  {
   "cell_type": "code",
   "execution_count": 3,
   "outputs": [
    {
     "data": {
      "text/plain": "Index(['PassengerId', 'Survived', 'Pclass', 'Name', 'Sex', 'Age', 'SibSp',\n       'Parch', 'Ticket', 'Fare', 'Cabin', 'Embarked'],\n      dtype='object')"
     },
     "execution_count": 3,
     "metadata": {},
     "output_type": "execute_result"
    }
   ],
   "source": [
    "data.columns"
   ],
   "metadata": {
    "collapsed": false,
    "pycharm": {
     "name": "#%%\n"
    }
   }
  },
  {
   "cell_type": "code",
   "execution_count": 8,
   "metadata": {},
   "outputs": [
    {
     "data": {
      "text/plain": "     PassengerId  Survived  Pclass                                      Name  \\\n803          804         1       3           Thomas, Master. Assad Alexander   \n755          756         1       2                 Hamalainen, Master. Viljo   \n644          645         1       3                    Baclini, Miss. Eugenie   \n469          470         1       3             Baclini, Miss. Helene Barbara   \n78            79         1       2             Caldwell, Master. Alden Gates   \n..           ...       ...     ...                                       ...   \n859          860         0       3                          Razi, Mr. Raihed   \n863          864         0       3         Sage, Miss. Dorothy Edith \"Dolly\"   \n868          869         0       3               van Melkebeke, Mr. Philemon   \n878          879         0       3                        Laleff, Mr. Kristo   \n888          889         0       3  Johnston, Miss. Catherine Helen \"Carrie\"   \n\n        Sex   Age  SibSp  Parch      Ticket     Fare Cabin Embarked  \n803    male  0.42      0      1        2625   8.5167   NaN        C  \n755    male  0.67      1      1      250649  14.5000   NaN        S  \n644  female  0.75      2      1        2666  19.2583   NaN        C  \n469  female  0.75      2      1        2666  19.2583   NaN        C  \n78     male  0.83      0      2      248738  29.0000   NaN        S  \n..      ...   ...    ...    ...         ...      ...   ...      ...  \n859    male   NaN      0      0        2629   7.2292   NaN        C  \n863  female   NaN      8      2    CA. 2343  69.5500   NaN        S  \n868    male   NaN      0      0      345777   9.5000   NaN        S  \n878    male   NaN      0      0      349217   7.8958   NaN        S  \n888  female   NaN      1      2  W./C. 6607  23.4500   NaN        S  \n\n[891 rows x 12 columns]",
      "text/html": "<div>\n<style scoped>\n    .dataframe tbody tr th:only-of-type {\n        vertical-align: middle;\n    }\n\n    .dataframe tbody tr th {\n        vertical-align: top;\n    }\n\n    .dataframe thead th {\n        text-align: right;\n    }\n</style>\n<table border=\"1\" class=\"dataframe\">\n  <thead>\n    <tr style=\"text-align: right;\">\n      <th></th>\n      <th>PassengerId</th>\n      <th>Survived</th>\n      <th>Pclass</th>\n      <th>Name</th>\n      <th>Sex</th>\n      <th>Age</th>\n      <th>SibSp</th>\n      <th>Parch</th>\n      <th>Ticket</th>\n      <th>Fare</th>\n      <th>Cabin</th>\n      <th>Embarked</th>\n    </tr>\n  </thead>\n  <tbody>\n    <tr>\n      <th>803</th>\n      <td>804</td>\n      <td>1</td>\n      <td>3</td>\n      <td>Thomas, Master. Assad Alexander</td>\n      <td>male</td>\n      <td>0.42</td>\n      <td>0</td>\n      <td>1</td>\n      <td>2625</td>\n      <td>8.5167</td>\n      <td>NaN</td>\n      <td>C</td>\n    </tr>\n    <tr>\n      <th>755</th>\n      <td>756</td>\n      <td>1</td>\n      <td>2</td>\n      <td>Hamalainen, Master. Viljo</td>\n      <td>male</td>\n      <td>0.67</td>\n      <td>1</td>\n      <td>1</td>\n      <td>250649</td>\n      <td>14.5000</td>\n      <td>NaN</td>\n      <td>S</td>\n    </tr>\n    <tr>\n      <th>644</th>\n      <td>645</td>\n      <td>1</td>\n      <td>3</td>\n      <td>Baclini, Miss. Eugenie</td>\n      <td>female</td>\n      <td>0.75</td>\n      <td>2</td>\n      <td>1</td>\n      <td>2666</td>\n      <td>19.2583</td>\n      <td>NaN</td>\n      <td>C</td>\n    </tr>\n    <tr>\n      <th>469</th>\n      <td>470</td>\n      <td>1</td>\n      <td>3</td>\n      <td>Baclini, Miss. Helene Barbara</td>\n      <td>female</td>\n      <td>0.75</td>\n      <td>2</td>\n      <td>1</td>\n      <td>2666</td>\n      <td>19.2583</td>\n      <td>NaN</td>\n      <td>C</td>\n    </tr>\n    <tr>\n      <th>78</th>\n      <td>79</td>\n      <td>1</td>\n      <td>2</td>\n      <td>Caldwell, Master. Alden Gates</td>\n      <td>male</td>\n      <td>0.83</td>\n      <td>0</td>\n      <td>2</td>\n      <td>248738</td>\n      <td>29.0000</td>\n      <td>NaN</td>\n      <td>S</td>\n    </tr>\n    <tr>\n      <th>...</th>\n      <td>...</td>\n      <td>...</td>\n      <td>...</td>\n      <td>...</td>\n      <td>...</td>\n      <td>...</td>\n      <td>...</td>\n      <td>...</td>\n      <td>...</td>\n      <td>...</td>\n      <td>...</td>\n      <td>...</td>\n    </tr>\n    <tr>\n      <th>859</th>\n      <td>860</td>\n      <td>0</td>\n      <td>3</td>\n      <td>Razi, Mr. Raihed</td>\n      <td>male</td>\n      <td>NaN</td>\n      <td>0</td>\n      <td>0</td>\n      <td>2629</td>\n      <td>7.2292</td>\n      <td>NaN</td>\n      <td>C</td>\n    </tr>\n    <tr>\n      <th>863</th>\n      <td>864</td>\n      <td>0</td>\n      <td>3</td>\n      <td>Sage, Miss. Dorothy Edith \"Dolly\"</td>\n      <td>female</td>\n      <td>NaN</td>\n      <td>8</td>\n      <td>2</td>\n      <td>CA. 2343</td>\n      <td>69.5500</td>\n      <td>NaN</td>\n      <td>S</td>\n    </tr>\n    <tr>\n      <th>868</th>\n      <td>869</td>\n      <td>0</td>\n      <td>3</td>\n      <td>van Melkebeke, Mr. Philemon</td>\n      <td>male</td>\n      <td>NaN</td>\n      <td>0</td>\n      <td>0</td>\n      <td>345777</td>\n      <td>9.5000</td>\n      <td>NaN</td>\n      <td>S</td>\n    </tr>\n    <tr>\n      <th>878</th>\n      <td>879</td>\n      <td>0</td>\n      <td>3</td>\n      <td>Laleff, Mr. Kristo</td>\n      <td>male</td>\n      <td>NaN</td>\n      <td>0</td>\n      <td>0</td>\n      <td>349217</td>\n      <td>7.8958</td>\n      <td>NaN</td>\n      <td>S</td>\n    </tr>\n    <tr>\n      <th>888</th>\n      <td>889</td>\n      <td>0</td>\n      <td>3</td>\n      <td>Johnston, Miss. Catherine Helen \"Carrie\"</td>\n      <td>female</td>\n      <td>NaN</td>\n      <td>1</td>\n      <td>2</td>\n      <td>W./C. 6607</td>\n      <td>23.4500</td>\n      <td>NaN</td>\n      <td>S</td>\n    </tr>\n  </tbody>\n</table>\n<p>891 rows × 12 columns</p>\n</div>"
     },
     "execution_count": 8,
     "metadata": {},
     "output_type": "execute_result"
    }
   ],
   "source": [
    "#回答代码\n",
    "data.sort_values(by=\"Age\")"
   ]
  },
  {
   "cell_type": "markdown",
   "metadata": {},
   "source": [
    "【思考】通过书本你能说出Pandas对DataFrame数据的其他排序方式吗？"
   ]
  },
  {
   "cell_type": "markdown",
   "metadata": {},
   "source": [
    "【总结】下面将不同的排序方式做一个总结"
   ]
  },
  {
   "cell_type": "markdown",
   "metadata": {},
   "source": [
    "1.让行索引升序排序"
   ]
  },
  {
   "cell_type": "code",
   "execution_count": 7,
   "metadata": {},
   "outputs": [
    {
     "data": {
      "text/plain": "     PassengerId  Survived  Pclass  \\\n0              1         0       3   \n1              2         1       1   \n2              3         1       3   \n3              4         1       1   \n4              5         0       3   \n..           ...       ...     ...   \n886          887         0       2   \n887          888         1       1   \n888          889         0       3   \n889          890         1       1   \n890          891         0       3   \n\n                                                  Name     Sex   Age  SibSp  \\\n0                              Braund, Mr. Owen Harris    male  22.0      1   \n1    Cumings, Mrs. John Bradley (Florence Briggs Th...  female  38.0      1   \n2                               Heikkinen, Miss. Laina  female  26.0      0   \n3         Futrelle, Mrs. Jacques Heath (Lily May Peel)  female  35.0      1   \n4                             Allen, Mr. William Henry    male  35.0      0   \n..                                                 ...     ...   ...    ...   \n886                              Montvila, Rev. Juozas    male  27.0      0   \n887                       Graham, Miss. Margaret Edith  female  19.0      0   \n888           Johnston, Miss. Catherine Helen \"Carrie\"  female   NaN      1   \n889                              Behr, Mr. Karl Howell    male  26.0      0   \n890                                Dooley, Mr. Patrick    male  32.0      0   \n\n     Parch            Ticket     Fare Cabin Embarked  \n0        0         A/5 21171   7.2500   NaN        S  \n1        0          PC 17599  71.2833   C85        C  \n2        0  STON/O2. 3101282   7.9250   NaN        S  \n3        0            113803  53.1000  C123        S  \n4        0            373450   8.0500   NaN        S  \n..     ...               ...      ...   ...      ...  \n886      0            211536  13.0000   NaN        S  \n887      0            112053  30.0000   B42        S  \n888      2        W./C. 6607  23.4500   NaN        S  \n889      0            111369  30.0000  C148        C  \n890      0            370376   7.7500   NaN        Q  \n\n[891 rows x 12 columns]",
      "text/html": "<div>\n<style scoped>\n    .dataframe tbody tr th:only-of-type {\n        vertical-align: middle;\n    }\n\n    .dataframe tbody tr th {\n        vertical-align: top;\n    }\n\n    .dataframe thead th {\n        text-align: right;\n    }\n</style>\n<table border=\"1\" class=\"dataframe\">\n  <thead>\n    <tr style=\"text-align: right;\">\n      <th></th>\n      <th>PassengerId</th>\n      <th>Survived</th>\n      <th>Pclass</th>\n      <th>Name</th>\n      <th>Sex</th>\n      <th>Age</th>\n      <th>SibSp</th>\n      <th>Parch</th>\n      <th>Ticket</th>\n      <th>Fare</th>\n      <th>Cabin</th>\n      <th>Embarked</th>\n    </tr>\n  </thead>\n  <tbody>\n    <tr>\n      <th>0</th>\n      <td>1</td>\n      <td>0</td>\n      <td>3</td>\n      <td>Braund, Mr. Owen Harris</td>\n      <td>male</td>\n      <td>22.0</td>\n      <td>1</td>\n      <td>0</td>\n      <td>A/5 21171</td>\n      <td>7.2500</td>\n      <td>NaN</td>\n      <td>S</td>\n    </tr>\n    <tr>\n      <th>1</th>\n      <td>2</td>\n      <td>1</td>\n      <td>1</td>\n      <td>Cumings, Mrs. John Bradley (Florence Briggs Th...</td>\n      <td>female</td>\n      <td>38.0</td>\n      <td>1</td>\n      <td>0</td>\n      <td>PC 17599</td>\n      <td>71.2833</td>\n      <td>C85</td>\n      <td>C</td>\n    </tr>\n    <tr>\n      <th>2</th>\n      <td>3</td>\n      <td>1</td>\n      <td>3</td>\n      <td>Heikkinen, Miss. Laina</td>\n      <td>female</td>\n      <td>26.0</td>\n      <td>0</td>\n      <td>0</td>\n      <td>STON/O2. 3101282</td>\n      <td>7.9250</td>\n      <td>NaN</td>\n      <td>S</td>\n    </tr>\n    <tr>\n      <th>3</th>\n      <td>4</td>\n      <td>1</td>\n      <td>1</td>\n      <td>Futrelle, Mrs. Jacques Heath (Lily May Peel)</td>\n      <td>female</td>\n      <td>35.0</td>\n      <td>1</td>\n      <td>0</td>\n      <td>113803</td>\n      <td>53.1000</td>\n      <td>C123</td>\n      <td>S</td>\n    </tr>\n    <tr>\n      <th>4</th>\n      <td>5</td>\n      <td>0</td>\n      <td>3</td>\n      <td>Allen, Mr. William Henry</td>\n      <td>male</td>\n      <td>35.0</td>\n      <td>0</td>\n      <td>0</td>\n      <td>373450</td>\n      <td>8.0500</td>\n      <td>NaN</td>\n      <td>S</td>\n    </tr>\n    <tr>\n      <th>...</th>\n      <td>...</td>\n      <td>...</td>\n      <td>...</td>\n      <td>...</td>\n      <td>...</td>\n      <td>...</td>\n      <td>...</td>\n      <td>...</td>\n      <td>...</td>\n      <td>...</td>\n      <td>...</td>\n      <td>...</td>\n    </tr>\n    <tr>\n      <th>886</th>\n      <td>887</td>\n      <td>0</td>\n      <td>2</td>\n      <td>Montvila, Rev. Juozas</td>\n      <td>male</td>\n      <td>27.0</td>\n      <td>0</td>\n      <td>0</td>\n      <td>211536</td>\n      <td>13.0000</td>\n      <td>NaN</td>\n      <td>S</td>\n    </tr>\n    <tr>\n      <th>887</th>\n      <td>888</td>\n      <td>1</td>\n      <td>1</td>\n      <td>Graham, Miss. Margaret Edith</td>\n      <td>female</td>\n      <td>19.0</td>\n      <td>0</td>\n      <td>0</td>\n      <td>112053</td>\n      <td>30.0000</td>\n      <td>B42</td>\n      <td>S</td>\n    </tr>\n    <tr>\n      <th>888</th>\n      <td>889</td>\n      <td>0</td>\n      <td>3</td>\n      <td>Johnston, Miss. Catherine Helen \"Carrie\"</td>\n      <td>female</td>\n      <td>NaN</td>\n      <td>1</td>\n      <td>2</td>\n      <td>W./C. 6607</td>\n      <td>23.4500</td>\n      <td>NaN</td>\n      <td>S</td>\n    </tr>\n    <tr>\n      <th>889</th>\n      <td>890</td>\n      <td>1</td>\n      <td>1</td>\n      <td>Behr, Mr. Karl Howell</td>\n      <td>male</td>\n      <td>26.0</td>\n      <td>0</td>\n      <td>0</td>\n      <td>111369</td>\n      <td>30.0000</td>\n      <td>C148</td>\n      <td>C</td>\n    </tr>\n    <tr>\n      <th>890</th>\n      <td>891</td>\n      <td>0</td>\n      <td>3</td>\n      <td>Dooley, Mr. Patrick</td>\n      <td>male</td>\n      <td>32.0</td>\n      <td>0</td>\n      <td>0</td>\n      <td>370376</td>\n      <td>7.7500</td>\n      <td>NaN</td>\n      <td>Q</td>\n    </tr>\n  </tbody>\n</table>\n<p>891 rows × 12 columns</p>\n</div>"
     },
     "execution_count": 7,
     "metadata": {},
     "output_type": "execute_result"
    }
   ],
   "source": [
    "#代码\n",
    "data.sort_index(ascending=True)"
   ]
  },
  {
   "cell_type": "markdown",
   "metadata": {},
   "source": [
    "2.让列索引升序排序\n"
   ]
  },
  {
   "cell_type": "code",
   "execution_count": 10,
   "metadata": {},
   "outputs": [
    {
     "data": {
      "text/plain": "      Age Cabin Embarked     Fare  \\\n0    22.0   NaN        S   7.2500   \n1    38.0   C85        C  71.2833   \n2    26.0   NaN        S   7.9250   \n3    35.0  C123        S  53.1000   \n4    35.0   NaN        S   8.0500   \n..    ...   ...      ...      ...   \n886  27.0   NaN        S  13.0000   \n887  19.0   B42        S  30.0000   \n888   NaN   NaN        S  23.4500   \n889  26.0  C148        C  30.0000   \n890  32.0   NaN        Q   7.7500   \n\n                                                  Name  Parch  PassengerId  \\\n0                              Braund, Mr. Owen Harris      0            1   \n1    Cumings, Mrs. John Bradley (Florence Briggs Th...      0            2   \n2                               Heikkinen, Miss. Laina      0            3   \n3         Futrelle, Mrs. Jacques Heath (Lily May Peel)      0            4   \n4                             Allen, Mr. William Henry      0            5   \n..                                                 ...    ...          ...   \n886                              Montvila, Rev. Juozas      0          887   \n887                       Graham, Miss. Margaret Edith      0          888   \n888           Johnston, Miss. Catherine Helen \"Carrie\"      2          889   \n889                              Behr, Mr. Karl Howell      0          890   \n890                                Dooley, Mr. Patrick      0          891   \n\n     Pclass     Sex  SibSp  Survived            Ticket  \n0         3    male      1         0         A/5 21171  \n1         1  female      1         1          PC 17599  \n2         3  female      0         1  STON/O2. 3101282  \n3         1  female      1         1            113803  \n4         3    male      0         0            373450  \n..      ...     ...    ...       ...               ...  \n886       2    male      0         0            211536  \n887       1  female      0         1            112053  \n888       3  female      1         0        W./C. 6607  \n889       1    male      0         1            111369  \n890       3    male      0         0            370376  \n\n[891 rows x 12 columns]",
      "text/html": "<div>\n<style scoped>\n    .dataframe tbody tr th:only-of-type {\n        vertical-align: middle;\n    }\n\n    .dataframe tbody tr th {\n        vertical-align: top;\n    }\n\n    .dataframe thead th {\n        text-align: right;\n    }\n</style>\n<table border=\"1\" class=\"dataframe\">\n  <thead>\n    <tr style=\"text-align: right;\">\n      <th></th>\n      <th>Age</th>\n      <th>Cabin</th>\n      <th>Embarked</th>\n      <th>Fare</th>\n      <th>Name</th>\n      <th>Parch</th>\n      <th>PassengerId</th>\n      <th>Pclass</th>\n      <th>Sex</th>\n      <th>SibSp</th>\n      <th>Survived</th>\n      <th>Ticket</th>\n    </tr>\n  </thead>\n  <tbody>\n    <tr>\n      <th>0</th>\n      <td>22.0</td>\n      <td>NaN</td>\n      <td>S</td>\n      <td>7.2500</td>\n      <td>Braund, Mr. Owen Harris</td>\n      <td>0</td>\n      <td>1</td>\n      <td>3</td>\n      <td>male</td>\n      <td>1</td>\n      <td>0</td>\n      <td>A/5 21171</td>\n    </tr>\n    <tr>\n      <th>1</th>\n      <td>38.0</td>\n      <td>C85</td>\n      <td>C</td>\n      <td>71.2833</td>\n      <td>Cumings, Mrs. John Bradley (Florence Briggs Th...</td>\n      <td>0</td>\n      <td>2</td>\n      <td>1</td>\n      <td>female</td>\n      <td>1</td>\n      <td>1</td>\n      <td>PC 17599</td>\n    </tr>\n    <tr>\n      <th>2</th>\n      <td>26.0</td>\n      <td>NaN</td>\n      <td>S</td>\n      <td>7.9250</td>\n      <td>Heikkinen, Miss. Laina</td>\n      <td>0</td>\n      <td>3</td>\n      <td>3</td>\n      <td>female</td>\n      <td>0</td>\n      <td>1</td>\n      <td>STON/O2. 3101282</td>\n    </tr>\n    <tr>\n      <th>3</th>\n      <td>35.0</td>\n      <td>C123</td>\n      <td>S</td>\n      <td>53.1000</td>\n      <td>Futrelle, Mrs. Jacques Heath (Lily May Peel)</td>\n      <td>0</td>\n      <td>4</td>\n      <td>1</td>\n      <td>female</td>\n      <td>1</td>\n      <td>1</td>\n      <td>113803</td>\n    </tr>\n    <tr>\n      <th>4</th>\n      <td>35.0</td>\n      <td>NaN</td>\n      <td>S</td>\n      <td>8.0500</td>\n      <td>Allen, Mr. William Henry</td>\n      <td>0</td>\n      <td>5</td>\n      <td>3</td>\n      <td>male</td>\n      <td>0</td>\n      <td>0</td>\n      <td>373450</td>\n    </tr>\n    <tr>\n      <th>...</th>\n      <td>...</td>\n      <td>...</td>\n      <td>...</td>\n      <td>...</td>\n      <td>...</td>\n      <td>...</td>\n      <td>...</td>\n      <td>...</td>\n      <td>...</td>\n      <td>...</td>\n      <td>...</td>\n      <td>...</td>\n    </tr>\n    <tr>\n      <th>886</th>\n      <td>27.0</td>\n      <td>NaN</td>\n      <td>S</td>\n      <td>13.0000</td>\n      <td>Montvila, Rev. Juozas</td>\n      <td>0</td>\n      <td>887</td>\n      <td>2</td>\n      <td>male</td>\n      <td>0</td>\n      <td>0</td>\n      <td>211536</td>\n    </tr>\n    <tr>\n      <th>887</th>\n      <td>19.0</td>\n      <td>B42</td>\n      <td>S</td>\n      <td>30.0000</td>\n      <td>Graham, Miss. Margaret Edith</td>\n      <td>0</td>\n      <td>888</td>\n      <td>1</td>\n      <td>female</td>\n      <td>0</td>\n      <td>1</td>\n      <td>112053</td>\n    </tr>\n    <tr>\n      <th>888</th>\n      <td>NaN</td>\n      <td>NaN</td>\n      <td>S</td>\n      <td>23.4500</td>\n      <td>Johnston, Miss. Catherine Helen \"Carrie\"</td>\n      <td>2</td>\n      <td>889</td>\n      <td>3</td>\n      <td>female</td>\n      <td>1</td>\n      <td>0</td>\n      <td>W./C. 6607</td>\n    </tr>\n    <tr>\n      <th>889</th>\n      <td>26.0</td>\n      <td>C148</td>\n      <td>C</td>\n      <td>30.0000</td>\n      <td>Behr, Mr. Karl Howell</td>\n      <td>0</td>\n      <td>890</td>\n      <td>1</td>\n      <td>male</td>\n      <td>0</td>\n      <td>1</td>\n      <td>111369</td>\n    </tr>\n    <tr>\n      <th>890</th>\n      <td>32.0</td>\n      <td>NaN</td>\n      <td>Q</td>\n      <td>7.7500</td>\n      <td>Dooley, Mr. Patrick</td>\n      <td>0</td>\n      <td>891</td>\n      <td>3</td>\n      <td>male</td>\n      <td>0</td>\n      <td>0</td>\n      <td>370376</td>\n    </tr>\n  </tbody>\n</table>\n<p>891 rows × 12 columns</p>\n</div>"
     },
     "execution_count": 10,
     "metadata": {},
     "output_type": "execute_result"
    }
   ],
   "source": [
    "#代码\n",
    "data.sort_index(ascending=True, axis=1)"
   ]
  },
  {
   "cell_type": "markdown",
   "metadata": {},
   "source": [
    "3.让列索引降序排序"
   ]
  },
  {
   "cell_type": "code",
   "execution_count": 11,
   "metadata": {},
   "outputs": [
    {
     "data": {
      "text/plain": "               Ticket  Survived  SibSp     Sex  Pclass  PassengerId  Parch  \\\n0           A/5 21171         0      1    male       3            1      0   \n1            PC 17599         1      1  female       1            2      0   \n2    STON/O2. 3101282         1      0  female       3            3      0   \n3              113803         1      1  female       1            4      0   \n4              373450         0      0    male       3            5      0   \n..                ...       ...    ...     ...     ...          ...    ...   \n886            211536         0      0    male       2          887      0   \n887            112053         1      0  female       1          888      0   \n888        W./C. 6607         0      1  female       3          889      2   \n889            111369         1      0    male       1          890      0   \n890            370376         0      0    male       3          891      0   \n\n                                                  Name     Fare Embarked  \\\n0                              Braund, Mr. Owen Harris   7.2500        S   \n1    Cumings, Mrs. John Bradley (Florence Briggs Th...  71.2833        C   \n2                               Heikkinen, Miss. Laina   7.9250        S   \n3         Futrelle, Mrs. Jacques Heath (Lily May Peel)  53.1000        S   \n4                             Allen, Mr. William Henry   8.0500        S   \n..                                                 ...      ...      ...   \n886                              Montvila, Rev. Juozas  13.0000        S   \n887                       Graham, Miss. Margaret Edith  30.0000        S   \n888           Johnston, Miss. Catherine Helen \"Carrie\"  23.4500        S   \n889                              Behr, Mr. Karl Howell  30.0000        C   \n890                                Dooley, Mr. Patrick   7.7500        Q   \n\n    Cabin   Age  \n0     NaN  22.0  \n1     C85  38.0  \n2     NaN  26.0  \n3    C123  35.0  \n4     NaN  35.0  \n..    ...   ...  \n886   NaN  27.0  \n887   B42  19.0  \n888   NaN   NaN  \n889  C148  26.0  \n890   NaN  32.0  \n\n[891 rows x 12 columns]",
      "text/html": "<div>\n<style scoped>\n    .dataframe tbody tr th:only-of-type {\n        vertical-align: middle;\n    }\n\n    .dataframe tbody tr th {\n        vertical-align: top;\n    }\n\n    .dataframe thead th {\n        text-align: right;\n    }\n</style>\n<table border=\"1\" class=\"dataframe\">\n  <thead>\n    <tr style=\"text-align: right;\">\n      <th></th>\n      <th>Ticket</th>\n      <th>Survived</th>\n      <th>SibSp</th>\n      <th>Sex</th>\n      <th>Pclass</th>\n      <th>PassengerId</th>\n      <th>Parch</th>\n      <th>Name</th>\n      <th>Fare</th>\n      <th>Embarked</th>\n      <th>Cabin</th>\n      <th>Age</th>\n    </tr>\n  </thead>\n  <tbody>\n    <tr>\n      <th>0</th>\n      <td>A/5 21171</td>\n      <td>0</td>\n      <td>1</td>\n      <td>male</td>\n      <td>3</td>\n      <td>1</td>\n      <td>0</td>\n      <td>Braund, Mr. Owen Harris</td>\n      <td>7.2500</td>\n      <td>S</td>\n      <td>NaN</td>\n      <td>22.0</td>\n    </tr>\n    <tr>\n      <th>1</th>\n      <td>PC 17599</td>\n      <td>1</td>\n      <td>1</td>\n      <td>female</td>\n      <td>1</td>\n      <td>2</td>\n      <td>0</td>\n      <td>Cumings, Mrs. John Bradley (Florence Briggs Th...</td>\n      <td>71.2833</td>\n      <td>C</td>\n      <td>C85</td>\n      <td>38.0</td>\n    </tr>\n    <tr>\n      <th>2</th>\n      <td>STON/O2. 3101282</td>\n      <td>1</td>\n      <td>0</td>\n      <td>female</td>\n      <td>3</td>\n      <td>3</td>\n      <td>0</td>\n      <td>Heikkinen, Miss. Laina</td>\n      <td>7.9250</td>\n      <td>S</td>\n      <td>NaN</td>\n      <td>26.0</td>\n    </tr>\n    <tr>\n      <th>3</th>\n      <td>113803</td>\n      <td>1</td>\n      <td>1</td>\n      <td>female</td>\n      <td>1</td>\n      <td>4</td>\n      <td>0</td>\n      <td>Futrelle, Mrs. Jacques Heath (Lily May Peel)</td>\n      <td>53.1000</td>\n      <td>S</td>\n      <td>C123</td>\n      <td>35.0</td>\n    </tr>\n    <tr>\n      <th>4</th>\n      <td>373450</td>\n      <td>0</td>\n      <td>0</td>\n      <td>male</td>\n      <td>3</td>\n      <td>5</td>\n      <td>0</td>\n      <td>Allen, Mr. William Henry</td>\n      <td>8.0500</td>\n      <td>S</td>\n      <td>NaN</td>\n      <td>35.0</td>\n    </tr>\n    <tr>\n      <th>...</th>\n      <td>...</td>\n      <td>...</td>\n      <td>...</td>\n      <td>...</td>\n      <td>...</td>\n      <td>...</td>\n      <td>...</td>\n      <td>...</td>\n      <td>...</td>\n      <td>...</td>\n      <td>...</td>\n      <td>...</td>\n    </tr>\n    <tr>\n      <th>886</th>\n      <td>211536</td>\n      <td>0</td>\n      <td>0</td>\n      <td>male</td>\n      <td>2</td>\n      <td>887</td>\n      <td>0</td>\n      <td>Montvila, Rev. Juozas</td>\n      <td>13.0000</td>\n      <td>S</td>\n      <td>NaN</td>\n      <td>27.0</td>\n    </tr>\n    <tr>\n      <th>887</th>\n      <td>112053</td>\n      <td>1</td>\n      <td>0</td>\n      <td>female</td>\n      <td>1</td>\n      <td>888</td>\n      <td>0</td>\n      <td>Graham, Miss. Margaret Edith</td>\n      <td>30.0000</td>\n      <td>S</td>\n      <td>B42</td>\n      <td>19.0</td>\n    </tr>\n    <tr>\n      <th>888</th>\n      <td>W./C. 6607</td>\n      <td>0</td>\n      <td>1</td>\n      <td>female</td>\n      <td>3</td>\n      <td>889</td>\n      <td>2</td>\n      <td>Johnston, Miss. Catherine Helen \"Carrie\"</td>\n      <td>23.4500</td>\n      <td>S</td>\n      <td>NaN</td>\n      <td>NaN</td>\n    </tr>\n    <tr>\n      <th>889</th>\n      <td>111369</td>\n      <td>1</td>\n      <td>0</td>\n      <td>male</td>\n      <td>1</td>\n      <td>890</td>\n      <td>0</td>\n      <td>Behr, Mr. Karl Howell</td>\n      <td>30.0000</td>\n      <td>C</td>\n      <td>C148</td>\n      <td>26.0</td>\n    </tr>\n    <tr>\n      <th>890</th>\n      <td>370376</td>\n      <td>0</td>\n      <td>0</td>\n      <td>male</td>\n      <td>3</td>\n      <td>891</td>\n      <td>0</td>\n      <td>Dooley, Mr. Patrick</td>\n      <td>7.7500</td>\n      <td>Q</td>\n      <td>NaN</td>\n      <td>32.0</td>\n    </tr>\n  </tbody>\n</table>\n<p>891 rows × 12 columns</p>\n</div>"
     },
     "execution_count": 11,
     "metadata": {},
     "output_type": "execute_result"
    }
   ],
   "source": [
    "#代码\n",
    "data.sort_index(ascending=False, axis=1)"
   ]
  },
  {
   "cell_type": "markdown",
   "metadata": {},
   "source": [
    "4.让任选两列数据同时降序排序"
   ]
  },
  {
   "cell_type": "code",
   "execution_count": 12,
   "metadata": {},
   "outputs": [
    {
     "data": {
      "text/plain": "     PassengerId  Survived  Pclass  \\\n630          631         1       1   \n851          852         0       3   \n96            97         0       1   \n493          494         0       1   \n116          117         0       3   \n..           ...       ...     ...   \n507          508         1       1   \n593          594         0       3   \n140          141         0       3   \n598          599         0       3   \n168          169         0       1   \n\n                                              Name     Sex   Age  SibSp  \\\n630           Barkworth, Mr. Algernon Henry Wilson    male  80.0      0   \n851                            Svensson, Mr. Johan    male  74.0      0   \n96                       Goldschmidt, Mr. George B    male  71.0      0   \n493                        Artagaveytia, Mr. Ramon    male  71.0      0   \n116                           Connors, Mr. Patrick    male  70.5      0   \n..                                             ...     ...   ...    ...   \n507  Bradley, Mr. George (\"George Arthur Brayton\")    male   NaN      0   \n593                             Bourke, Miss. Mary  female   NaN      0   \n140                  Boulos, Mrs. Joseph (Sultana)  female   NaN      0   \n598                              Boulos, Mr. Hanna    male   NaN      0   \n168                            Baumann, Mr. John D    male   NaN      0   \n\n     Parch    Ticket     Fare Cabin Embarked  \n630      0     27042  30.0000   A23        S  \n851      0    347060   7.7750   NaN        S  \n96       0  PC 17754  34.6542    A5        C  \n493      0  PC 17609  49.5042   NaN        C  \n116      0    370369   7.7500   NaN        Q  \n..     ...       ...      ...   ...      ...  \n507      0    111427  26.5500   NaN        S  \n593      2    364848   7.7500   NaN        Q  \n140      2      2678  15.2458   NaN        C  \n598      0      2664   7.2250   NaN        C  \n168      0  PC 17318  25.9250   NaN        S  \n\n[891 rows x 12 columns]",
      "text/html": "<div>\n<style scoped>\n    .dataframe tbody tr th:only-of-type {\n        vertical-align: middle;\n    }\n\n    .dataframe tbody tr th {\n        vertical-align: top;\n    }\n\n    .dataframe thead th {\n        text-align: right;\n    }\n</style>\n<table border=\"1\" class=\"dataframe\">\n  <thead>\n    <tr style=\"text-align: right;\">\n      <th></th>\n      <th>PassengerId</th>\n      <th>Survived</th>\n      <th>Pclass</th>\n      <th>Name</th>\n      <th>Sex</th>\n      <th>Age</th>\n      <th>SibSp</th>\n      <th>Parch</th>\n      <th>Ticket</th>\n      <th>Fare</th>\n      <th>Cabin</th>\n      <th>Embarked</th>\n    </tr>\n  </thead>\n  <tbody>\n    <tr>\n      <th>630</th>\n      <td>631</td>\n      <td>1</td>\n      <td>1</td>\n      <td>Barkworth, Mr. Algernon Henry Wilson</td>\n      <td>male</td>\n      <td>80.0</td>\n      <td>0</td>\n      <td>0</td>\n      <td>27042</td>\n      <td>30.0000</td>\n      <td>A23</td>\n      <td>S</td>\n    </tr>\n    <tr>\n      <th>851</th>\n      <td>852</td>\n      <td>0</td>\n      <td>3</td>\n      <td>Svensson, Mr. Johan</td>\n      <td>male</td>\n      <td>74.0</td>\n      <td>0</td>\n      <td>0</td>\n      <td>347060</td>\n      <td>7.7750</td>\n      <td>NaN</td>\n      <td>S</td>\n    </tr>\n    <tr>\n      <th>96</th>\n      <td>97</td>\n      <td>0</td>\n      <td>1</td>\n      <td>Goldschmidt, Mr. George B</td>\n      <td>male</td>\n      <td>71.0</td>\n      <td>0</td>\n      <td>0</td>\n      <td>PC 17754</td>\n      <td>34.6542</td>\n      <td>A5</td>\n      <td>C</td>\n    </tr>\n    <tr>\n      <th>493</th>\n      <td>494</td>\n      <td>0</td>\n      <td>1</td>\n      <td>Artagaveytia, Mr. Ramon</td>\n      <td>male</td>\n      <td>71.0</td>\n      <td>0</td>\n      <td>0</td>\n      <td>PC 17609</td>\n      <td>49.5042</td>\n      <td>NaN</td>\n      <td>C</td>\n    </tr>\n    <tr>\n      <th>116</th>\n      <td>117</td>\n      <td>0</td>\n      <td>3</td>\n      <td>Connors, Mr. Patrick</td>\n      <td>male</td>\n      <td>70.5</td>\n      <td>0</td>\n      <td>0</td>\n      <td>370369</td>\n      <td>7.7500</td>\n      <td>NaN</td>\n      <td>Q</td>\n    </tr>\n    <tr>\n      <th>...</th>\n      <td>...</td>\n      <td>...</td>\n      <td>...</td>\n      <td>...</td>\n      <td>...</td>\n      <td>...</td>\n      <td>...</td>\n      <td>...</td>\n      <td>...</td>\n      <td>...</td>\n      <td>...</td>\n      <td>...</td>\n    </tr>\n    <tr>\n      <th>507</th>\n      <td>508</td>\n      <td>1</td>\n      <td>1</td>\n      <td>Bradley, Mr. George (\"George Arthur Brayton\")</td>\n      <td>male</td>\n      <td>NaN</td>\n      <td>0</td>\n      <td>0</td>\n      <td>111427</td>\n      <td>26.5500</td>\n      <td>NaN</td>\n      <td>S</td>\n    </tr>\n    <tr>\n      <th>593</th>\n      <td>594</td>\n      <td>0</td>\n      <td>3</td>\n      <td>Bourke, Miss. Mary</td>\n      <td>female</td>\n      <td>NaN</td>\n      <td>0</td>\n      <td>2</td>\n      <td>364848</td>\n      <td>7.7500</td>\n      <td>NaN</td>\n      <td>Q</td>\n    </tr>\n    <tr>\n      <th>140</th>\n      <td>141</td>\n      <td>0</td>\n      <td>3</td>\n      <td>Boulos, Mrs. Joseph (Sultana)</td>\n      <td>female</td>\n      <td>NaN</td>\n      <td>0</td>\n      <td>2</td>\n      <td>2678</td>\n      <td>15.2458</td>\n      <td>NaN</td>\n      <td>C</td>\n    </tr>\n    <tr>\n      <th>598</th>\n      <td>599</td>\n      <td>0</td>\n      <td>3</td>\n      <td>Boulos, Mr. Hanna</td>\n      <td>male</td>\n      <td>NaN</td>\n      <td>0</td>\n      <td>0</td>\n      <td>2664</td>\n      <td>7.2250</td>\n      <td>NaN</td>\n      <td>C</td>\n    </tr>\n    <tr>\n      <th>168</th>\n      <td>169</td>\n      <td>0</td>\n      <td>1</td>\n      <td>Baumann, Mr. John D</td>\n      <td>male</td>\n      <td>NaN</td>\n      <td>0</td>\n      <td>0</td>\n      <td>PC 17318</td>\n      <td>25.9250</td>\n      <td>NaN</td>\n      <td>S</td>\n    </tr>\n  </tbody>\n</table>\n<p>891 rows × 12 columns</p>\n</div>"
     },
     "execution_count": 12,
     "metadata": {},
     "output_type": "execute_result"
    }
   ],
   "source": [
    "#代码\n",
    "data.sort_values(ascending=False, by=[\"Age\", \"Name\"])"
   ]
  },
  {
   "cell_type": "markdown",
   "metadata": {},
   "source": [
    "#### 1.6.2 任务二：对泰坦尼克号数据（trian.csv）按票价和年龄两列进行综合排序（降序排列），从这个数据中你可以分析出什么？"
   ]
  },
  {
   "cell_type": "code",
   "execution_count": null,
   "metadata": {
    "scrolled": true
   },
   "outputs": [],
   "source": [
    "'''\n",
    "在开始我们已经导入了train_chinese.csv数据，而且前面我们也学习了导入数据过程，根据上面学习，我们直接对目标列进行排序即可\n",
    "head(20) : 读取前20条数据\n",
    "\n",
    "'''\n"
   ]
  },
  {
   "cell_type": "code",
   "execution_count": 15,
   "metadata": {},
   "outputs": [
    {
     "data": {
      "text/plain": "      Age      Fare  Survived\n630  80.0   30.0000         1\n851  74.0    7.7750         0\n493  71.0   49.5042         0\n96   71.0   34.6542         0\n116  70.5    7.7500         0\n745  70.0   71.0000         0\n672  70.0   10.5000         0\n33   66.0   10.5000         0\n54   65.0   61.9792         0\n456  65.0   26.5500         0\n280  65.0    7.7500         0\n438  64.0  263.0000         0\n545  64.0   26.0000         0\n275  63.0   77.9583         1\n483  63.0    9.5875         1\n829  62.0   80.0000         1\n252  62.0   26.5500         0\n555  62.0   26.5500         0\n570  62.0   10.5000         1\n170  61.0   33.5000         0",
      "text/html": "<div>\n<style scoped>\n    .dataframe tbody tr th:only-of-type {\n        vertical-align: middle;\n    }\n\n    .dataframe tbody tr th {\n        vertical-align: top;\n    }\n\n    .dataframe thead th {\n        text-align: right;\n    }\n</style>\n<table border=\"1\" class=\"dataframe\">\n  <thead>\n    <tr style=\"text-align: right;\">\n      <th></th>\n      <th>Age</th>\n      <th>Fare</th>\n      <th>Survived</th>\n    </tr>\n  </thead>\n  <tbody>\n    <tr>\n      <th>630</th>\n      <td>80.0</td>\n      <td>30.0000</td>\n      <td>1</td>\n    </tr>\n    <tr>\n      <th>851</th>\n      <td>74.0</td>\n      <td>7.7750</td>\n      <td>0</td>\n    </tr>\n    <tr>\n      <th>493</th>\n      <td>71.0</td>\n      <td>49.5042</td>\n      <td>0</td>\n    </tr>\n    <tr>\n      <th>96</th>\n      <td>71.0</td>\n      <td>34.6542</td>\n      <td>0</td>\n    </tr>\n    <tr>\n      <th>116</th>\n      <td>70.5</td>\n      <td>7.7500</td>\n      <td>0</td>\n    </tr>\n    <tr>\n      <th>745</th>\n      <td>70.0</td>\n      <td>71.0000</td>\n      <td>0</td>\n    </tr>\n    <tr>\n      <th>672</th>\n      <td>70.0</td>\n      <td>10.5000</td>\n      <td>0</td>\n    </tr>\n    <tr>\n      <th>33</th>\n      <td>66.0</td>\n      <td>10.5000</td>\n      <td>0</td>\n    </tr>\n    <tr>\n      <th>54</th>\n      <td>65.0</td>\n      <td>61.9792</td>\n      <td>0</td>\n    </tr>\n    <tr>\n      <th>456</th>\n      <td>65.0</td>\n      <td>26.5500</td>\n      <td>0</td>\n    </tr>\n    <tr>\n      <th>280</th>\n      <td>65.0</td>\n      <td>7.7500</td>\n      <td>0</td>\n    </tr>\n    <tr>\n      <th>438</th>\n      <td>64.0</td>\n      <td>263.0000</td>\n      <td>0</td>\n    </tr>\n    <tr>\n      <th>545</th>\n      <td>64.0</td>\n      <td>26.0000</td>\n      <td>0</td>\n    </tr>\n    <tr>\n      <th>275</th>\n      <td>63.0</td>\n      <td>77.9583</td>\n      <td>1</td>\n    </tr>\n    <tr>\n      <th>483</th>\n      <td>63.0</td>\n      <td>9.5875</td>\n      <td>1</td>\n    </tr>\n    <tr>\n      <th>829</th>\n      <td>62.0</td>\n      <td>80.0000</td>\n      <td>1</td>\n    </tr>\n    <tr>\n      <th>252</th>\n      <td>62.0</td>\n      <td>26.5500</td>\n      <td>0</td>\n    </tr>\n    <tr>\n      <th>555</th>\n      <td>62.0</td>\n      <td>26.5500</td>\n      <td>0</td>\n    </tr>\n    <tr>\n      <th>570</th>\n      <td>62.0</td>\n      <td>10.5000</td>\n      <td>1</td>\n    </tr>\n    <tr>\n      <th>170</th>\n      <td>61.0</td>\n      <td>33.5000</td>\n      <td>0</td>\n    </tr>\n  </tbody>\n</table>\n</div>"
     },
     "execution_count": 15,
     "metadata": {},
     "output_type": "execute_result"
    }
   ],
   "source": [
    "#代码\n",
    "data.sort_values(ascending=False, by=[\"Age\", \"Fare\"]).head(20)[[\"Age\", \"Fare\", \"Survived\"]]"
   ]
  },
  {
   "cell_type": "markdown",
   "metadata": {},
   "source": [
    "【思考】排序后，如果我们仅仅关注年龄和票价两列。根据常识我知道发现票价越高的应该客舱越好，所以我们会明显看出，票价前20的乘客中存活的有14人，这是相当高的一个比例，那么我们后面是不是可以进一步分析一下票价和存活之间的关系，年龄和存活之间的关系呢？当你开始发现数据之间的关系了，数据分析就开始了。\n",
    "\n",
    "当然，这只是我的想法，你还可以有更多想法，欢迎写在你的学习笔记中。"
   ]
  },
  {
   "cell_type": "markdown",
   "metadata": {},
   "source": [
    "**多做几个数据的排序**"
   ]
  },
  {
   "cell_type": "code",
   "execution_count": 16,
   "metadata": {},
   "outputs": [
    {
     "data": {
      "text/plain": "         Fare  Survived\n258  512.3292         1\n737  512.3292         1\n679  512.3292         1\n88   263.0000         1\n27   263.0000         0\n341  263.0000         1\n438  263.0000         0\n311  262.3750         1\n742  262.3750         1\n118  247.5208         0\n299  247.5208         1\n557  227.5250         0\n700  227.5250         1\n380  227.5250         1\n716  227.5250         1\n527  221.7792         0\n377  211.5000         0\n730  211.3375         1\n779  211.3375         1\n689  211.3375         1",
      "text/html": "<div>\n<style scoped>\n    .dataframe tbody tr th:only-of-type {\n        vertical-align: middle;\n    }\n\n    .dataframe tbody tr th {\n        vertical-align: top;\n    }\n\n    .dataframe thead th {\n        text-align: right;\n    }\n</style>\n<table border=\"1\" class=\"dataframe\">\n  <thead>\n    <tr style=\"text-align: right;\">\n      <th></th>\n      <th>Fare</th>\n      <th>Survived</th>\n    </tr>\n  </thead>\n  <tbody>\n    <tr>\n      <th>258</th>\n      <td>512.3292</td>\n      <td>1</td>\n    </tr>\n    <tr>\n      <th>737</th>\n      <td>512.3292</td>\n      <td>1</td>\n    </tr>\n    <tr>\n      <th>679</th>\n      <td>512.3292</td>\n      <td>1</td>\n    </tr>\n    <tr>\n      <th>88</th>\n      <td>263.0000</td>\n      <td>1</td>\n    </tr>\n    <tr>\n      <th>27</th>\n      <td>263.0000</td>\n      <td>0</td>\n    </tr>\n    <tr>\n      <th>341</th>\n      <td>263.0000</td>\n      <td>1</td>\n    </tr>\n    <tr>\n      <th>438</th>\n      <td>263.0000</td>\n      <td>0</td>\n    </tr>\n    <tr>\n      <th>311</th>\n      <td>262.3750</td>\n      <td>1</td>\n    </tr>\n    <tr>\n      <th>742</th>\n      <td>262.3750</td>\n      <td>1</td>\n    </tr>\n    <tr>\n      <th>118</th>\n      <td>247.5208</td>\n      <td>0</td>\n    </tr>\n    <tr>\n      <th>299</th>\n      <td>247.5208</td>\n      <td>1</td>\n    </tr>\n    <tr>\n      <th>557</th>\n      <td>227.5250</td>\n      <td>0</td>\n    </tr>\n    <tr>\n      <th>700</th>\n      <td>227.5250</td>\n      <td>1</td>\n    </tr>\n    <tr>\n      <th>380</th>\n      <td>227.5250</td>\n      <td>1</td>\n    </tr>\n    <tr>\n      <th>716</th>\n      <td>227.5250</td>\n      <td>1</td>\n    </tr>\n    <tr>\n      <th>527</th>\n      <td>221.7792</td>\n      <td>0</td>\n    </tr>\n    <tr>\n      <th>377</th>\n      <td>211.5000</td>\n      <td>0</td>\n    </tr>\n    <tr>\n      <th>730</th>\n      <td>211.3375</td>\n      <td>1</td>\n    </tr>\n    <tr>\n      <th>779</th>\n      <td>211.3375</td>\n      <td>1</td>\n    </tr>\n    <tr>\n      <th>689</th>\n      <td>211.3375</td>\n      <td>1</td>\n    </tr>\n  </tbody>\n</table>\n</div>"
     },
     "execution_count": 16,
     "metadata": {},
     "output_type": "execute_result"
    }
   ],
   "source": [
    "#代码\n",
    "data.sort_values(ascending=False, by=[\"Fare\"]).head(20)[[\"Fare\", \"Survived\"]]"
   ]
  },
  {
   "cell_type": "code",
   "execution_count": 18,
   "outputs": [
    {
     "data": {
      "text/plain": "       Fare  Survived\n271  0.0000         1\n597  0.0000         0\n302  0.0000         0\n633  0.0000         0\n277  0.0000         0\n413  0.0000         0\n674  0.0000         0\n263  0.0000         0\n466  0.0000         0\n732  0.0000         0\n179  0.0000         0\n806  0.0000         0\n481  0.0000         0\n822  0.0000         0\n815  0.0000         0\n378  4.0125         0\n872  5.0000         0\n326  6.2375         0\n843  6.4375         0\n818  6.4500         0",
      "text/html": "<div>\n<style scoped>\n    .dataframe tbody tr th:only-of-type {\n        vertical-align: middle;\n    }\n\n    .dataframe tbody tr th {\n        vertical-align: top;\n    }\n\n    .dataframe thead th {\n        text-align: right;\n    }\n</style>\n<table border=\"1\" class=\"dataframe\">\n  <thead>\n    <tr style=\"text-align: right;\">\n      <th></th>\n      <th>Fare</th>\n      <th>Survived</th>\n    </tr>\n  </thead>\n  <tbody>\n    <tr>\n      <th>271</th>\n      <td>0.0000</td>\n      <td>1</td>\n    </tr>\n    <tr>\n      <th>597</th>\n      <td>0.0000</td>\n      <td>0</td>\n    </tr>\n    <tr>\n      <th>302</th>\n      <td>0.0000</td>\n      <td>0</td>\n    </tr>\n    <tr>\n      <th>633</th>\n      <td>0.0000</td>\n      <td>0</td>\n    </tr>\n    <tr>\n      <th>277</th>\n      <td>0.0000</td>\n      <td>0</td>\n    </tr>\n    <tr>\n      <th>413</th>\n      <td>0.0000</td>\n      <td>0</td>\n    </tr>\n    <tr>\n      <th>674</th>\n      <td>0.0000</td>\n      <td>0</td>\n    </tr>\n    <tr>\n      <th>263</th>\n      <td>0.0000</td>\n      <td>0</td>\n    </tr>\n    <tr>\n      <th>466</th>\n      <td>0.0000</td>\n      <td>0</td>\n    </tr>\n    <tr>\n      <th>732</th>\n      <td>0.0000</td>\n      <td>0</td>\n    </tr>\n    <tr>\n      <th>179</th>\n      <td>0.0000</td>\n      <td>0</td>\n    </tr>\n    <tr>\n      <th>806</th>\n      <td>0.0000</td>\n      <td>0</td>\n    </tr>\n    <tr>\n      <th>481</th>\n      <td>0.0000</td>\n      <td>0</td>\n    </tr>\n    <tr>\n      <th>822</th>\n      <td>0.0000</td>\n      <td>0</td>\n    </tr>\n    <tr>\n      <th>815</th>\n      <td>0.0000</td>\n      <td>0</td>\n    </tr>\n    <tr>\n      <th>378</th>\n      <td>4.0125</td>\n      <td>0</td>\n    </tr>\n    <tr>\n      <th>872</th>\n      <td>5.0000</td>\n      <td>0</td>\n    </tr>\n    <tr>\n      <th>326</th>\n      <td>6.2375</td>\n      <td>0</td>\n    </tr>\n    <tr>\n      <th>843</th>\n      <td>6.4375</td>\n      <td>0</td>\n    </tr>\n    <tr>\n      <th>818</th>\n      <td>6.4500</td>\n      <td>0</td>\n    </tr>\n  </tbody>\n</table>\n</div>"
     },
     "execution_count": 18,
     "metadata": {},
     "output_type": "execute_result"
    }
   ],
   "source": [
    "data.sort_values(ascending=True, by=[\"Fare\"]).head(20)[[\"Fare\", \"Survived\"]]"
   ],
   "metadata": {
    "collapsed": false,
    "pycharm": {
     "name": "#%%\n"
    }
   }
  },
  {
   "cell_type": "code",
   "execution_count": 21,
   "outputs": [
    {
     "data": {
      "text/plain": "      Age  Survived\n630  80.0         1\n851  74.0         0\n493  71.0         0\n96   71.0         0\n116  70.5         0\n672  70.0         0\n745  70.0         0\n33   66.0         0\n54   65.0         0\n280  65.0         0\n456  65.0         0\n438  64.0         0\n545  64.0         0\n275  63.0         1\n483  63.0         1\n570  62.0         1\n252  62.0         0\n829  62.0         1\n555  62.0         0\n625  61.0         0",
      "text/html": "<div>\n<style scoped>\n    .dataframe tbody tr th:only-of-type {\n        vertical-align: middle;\n    }\n\n    .dataframe tbody tr th {\n        vertical-align: top;\n    }\n\n    .dataframe thead th {\n        text-align: right;\n    }\n</style>\n<table border=\"1\" class=\"dataframe\">\n  <thead>\n    <tr style=\"text-align: right;\">\n      <th></th>\n      <th>Age</th>\n      <th>Survived</th>\n    </tr>\n  </thead>\n  <tbody>\n    <tr>\n      <th>630</th>\n      <td>80.0</td>\n      <td>1</td>\n    </tr>\n    <tr>\n      <th>851</th>\n      <td>74.0</td>\n      <td>0</td>\n    </tr>\n    <tr>\n      <th>493</th>\n      <td>71.0</td>\n      <td>0</td>\n    </tr>\n    <tr>\n      <th>96</th>\n      <td>71.0</td>\n      <td>0</td>\n    </tr>\n    <tr>\n      <th>116</th>\n      <td>70.5</td>\n      <td>0</td>\n    </tr>\n    <tr>\n      <th>672</th>\n      <td>70.0</td>\n      <td>0</td>\n    </tr>\n    <tr>\n      <th>745</th>\n      <td>70.0</td>\n      <td>0</td>\n    </tr>\n    <tr>\n      <th>33</th>\n      <td>66.0</td>\n      <td>0</td>\n    </tr>\n    <tr>\n      <th>54</th>\n      <td>65.0</td>\n      <td>0</td>\n    </tr>\n    <tr>\n      <th>280</th>\n      <td>65.0</td>\n      <td>0</td>\n    </tr>\n    <tr>\n      <th>456</th>\n      <td>65.0</td>\n      <td>0</td>\n    </tr>\n    <tr>\n      <th>438</th>\n      <td>64.0</td>\n      <td>0</td>\n    </tr>\n    <tr>\n      <th>545</th>\n      <td>64.0</td>\n      <td>0</td>\n    </tr>\n    <tr>\n      <th>275</th>\n      <td>63.0</td>\n      <td>1</td>\n    </tr>\n    <tr>\n      <th>483</th>\n      <td>63.0</td>\n      <td>1</td>\n    </tr>\n    <tr>\n      <th>570</th>\n      <td>62.0</td>\n      <td>1</td>\n    </tr>\n    <tr>\n      <th>252</th>\n      <td>62.0</td>\n      <td>0</td>\n    </tr>\n    <tr>\n      <th>829</th>\n      <td>62.0</td>\n      <td>1</td>\n    </tr>\n    <tr>\n      <th>555</th>\n      <td>62.0</td>\n      <td>0</td>\n    </tr>\n    <tr>\n      <th>625</th>\n      <td>61.0</td>\n      <td>0</td>\n    </tr>\n  </tbody>\n</table>\n</div>"
     },
     "execution_count": 21,
     "metadata": {},
     "output_type": "execute_result"
    }
   ],
   "source": [
    "data.sort_values(ascending=False, by=[\"Age\"]).head(20)[[\"Age\", \"Survived\"]]"
   ],
   "metadata": {
    "collapsed": false,
    "pycharm": {
     "name": "#%%\n"
    }
   }
  },
  {
   "cell_type": "markdown",
   "metadata": {
    "pycharm": {
     "name": "#%% md\n"
    }
   },
   "source": [
    "#写下你的思考\n",
    "\n",
    "\n",
    "\n",
    "\n",
    "票价较高人群的存活比率明显高于较低人群"
   ]
  },
  {
   "cell_type": "markdown",
   "metadata": {},
   "source": [
    "#### 1.6.3 任务三：利用Pandas进行算术计算，计算两个DataFrame数据相加结果"
   ]
  },
  {
   "cell_type": "code",
   "execution_count": 10,
   "metadata": {},
   "outputs": [],
   "source": [
    "# 具体请看《利用Python进行数据分析》第五章 算术运算与数据对齐 部分\n",
    "\n",
    "#自己构建两个都为数字的DataFrame数据\n",
    "\n",
    "\"\"\"\n",
    "我们举了一个例子：\n",
    "frame1_a = pd.DataFrame(np.arange(9.).reshape(3, 3),\n",
    "                     columns=['a', 'b', 'c'],\n",
    "                     index=['one', 'two', 'three'])\n",
    "frame1_b = pd.DataFrame(np.arange(12.).reshape(4, 3),\n",
    "                     columns=['a', 'e', 'c'],\n",
    "                     index=['first', 'one', 'two', 'second'])\n",
    "frame1_a\n",
    "\"\"\""
   ]
  },
  {
   "cell_type": "code",
   "execution_count": 22,
   "metadata": {},
   "outputs": [],
   "source": [
    "#代码\n",
    "frame1_a = pd.DataFrame(np.arange(9.).reshape(3, 3),\n",
    "                        columns=['a', 'b', 'c'],\n",
    "                        index=['one', 'two', 'three'])\n",
    "frame1_b = pd.DataFrame(np.arange(12.).reshape(4, 3),\n",
    "                        columns=['a', 'e', 'c'],\n",
    "                        index=['first', 'one', 'two', 'second'])"
   ]
  },
  {
   "cell_type": "code",
   "execution_count": 24,
   "outputs": [
    {
     "data": {
      "text/plain": "         a    b    c\none    0.0  1.0  2.0\ntwo    3.0  4.0  5.0\nthree  6.0  7.0  8.0",
      "text/html": "<div>\n<style scoped>\n    .dataframe tbody tr th:only-of-type {\n        vertical-align: middle;\n    }\n\n    .dataframe tbody tr th {\n        vertical-align: top;\n    }\n\n    .dataframe thead th {\n        text-align: right;\n    }\n</style>\n<table border=\"1\" class=\"dataframe\">\n  <thead>\n    <tr style=\"text-align: right;\">\n      <th></th>\n      <th>a</th>\n      <th>b</th>\n      <th>c</th>\n    </tr>\n  </thead>\n  <tbody>\n    <tr>\n      <th>one</th>\n      <td>0.0</td>\n      <td>1.0</td>\n      <td>2.0</td>\n    </tr>\n    <tr>\n      <th>two</th>\n      <td>3.0</td>\n      <td>4.0</td>\n      <td>5.0</td>\n    </tr>\n    <tr>\n      <th>three</th>\n      <td>6.0</td>\n      <td>7.0</td>\n      <td>8.0</td>\n    </tr>\n  </tbody>\n</table>\n</div>"
     },
     "execution_count": 24,
     "metadata": {},
     "output_type": "execute_result"
    }
   ],
   "source": [
    "frame1_a"
   ],
   "metadata": {
    "collapsed": false,
    "pycharm": {
     "name": "#%%\n"
    }
   }
  },
  {
   "cell_type": "code",
   "execution_count": 23,
   "outputs": [
    {
     "data": {
      "text/plain": "          a     e     c\nfirst   0.0   1.0   2.0\none     3.0   4.0   5.0\ntwo     6.0   7.0   8.0\nsecond  9.0  10.0  11.0",
      "text/html": "<div>\n<style scoped>\n    .dataframe tbody tr th:only-of-type {\n        vertical-align: middle;\n    }\n\n    .dataframe tbody tr th {\n        vertical-align: top;\n    }\n\n    .dataframe thead th {\n        text-align: right;\n    }\n</style>\n<table border=\"1\" class=\"dataframe\">\n  <thead>\n    <tr style=\"text-align: right;\">\n      <th></th>\n      <th>a</th>\n      <th>e</th>\n      <th>c</th>\n    </tr>\n  </thead>\n  <tbody>\n    <tr>\n      <th>first</th>\n      <td>0.0</td>\n      <td>1.0</td>\n      <td>2.0</td>\n    </tr>\n    <tr>\n      <th>one</th>\n      <td>3.0</td>\n      <td>4.0</td>\n      <td>5.0</td>\n    </tr>\n    <tr>\n      <th>two</th>\n      <td>6.0</td>\n      <td>7.0</td>\n      <td>8.0</td>\n    </tr>\n    <tr>\n      <th>second</th>\n      <td>9.0</td>\n      <td>10.0</td>\n      <td>11.0</td>\n    </tr>\n  </tbody>\n</table>\n</div>"
     },
     "execution_count": 23,
     "metadata": {},
     "output_type": "execute_result"
    }
   ],
   "source": [
    "frame1_b"
   ],
   "metadata": {
    "collapsed": false,
    "pycharm": {
     "name": "#%%\n"
    }
   }
  },
  {
   "cell_type": "markdown",
   "metadata": {},
   "source": [
    "将frame_a和frame_b进行相加\n"
   ]
  },
  {
   "cell_type": "code",
   "execution_count": 25,
   "metadata": {},
   "outputs": [
    {
     "data": {
      "text/plain": "          a   b     c   e\nfirst   NaN NaN   NaN NaN\none     3.0 NaN   7.0 NaN\nsecond  NaN NaN   NaN NaN\nthree   NaN NaN   NaN NaN\ntwo     9.0 NaN  13.0 NaN",
      "text/html": "<div>\n<style scoped>\n    .dataframe tbody tr th:only-of-type {\n        vertical-align: middle;\n    }\n\n    .dataframe tbody tr th {\n        vertical-align: top;\n    }\n\n    .dataframe thead th {\n        text-align: right;\n    }\n</style>\n<table border=\"1\" class=\"dataframe\">\n  <thead>\n    <tr style=\"text-align: right;\">\n      <th></th>\n      <th>a</th>\n      <th>b</th>\n      <th>c</th>\n      <th>e</th>\n    </tr>\n  </thead>\n  <tbody>\n    <tr>\n      <th>first</th>\n      <td>NaN</td>\n      <td>NaN</td>\n      <td>NaN</td>\n      <td>NaN</td>\n    </tr>\n    <tr>\n      <th>one</th>\n      <td>3.0</td>\n      <td>NaN</td>\n      <td>7.0</td>\n      <td>NaN</td>\n    </tr>\n    <tr>\n      <th>second</th>\n      <td>NaN</td>\n      <td>NaN</td>\n      <td>NaN</td>\n      <td>NaN</td>\n    </tr>\n    <tr>\n      <th>three</th>\n      <td>NaN</td>\n      <td>NaN</td>\n      <td>NaN</td>\n      <td>NaN</td>\n    </tr>\n    <tr>\n      <th>two</th>\n      <td>9.0</td>\n      <td>NaN</td>\n      <td>13.0</td>\n      <td>NaN</td>\n    </tr>\n  </tbody>\n</table>\n</div>"
     },
     "execution_count": 25,
     "metadata": {},
     "output_type": "execute_result"
    }
   ],
   "source": [
    "#代码\n",
    "frame1_a+frame1_b"
   ]
  },
  {
   "cell_type": "markdown",
   "metadata": {},
   "source": [
    "【提醒】两个DataFrame相加后，会返回一个新的DataFrame，对应的行和列的值会相加，没有对应的会变成空值NaN。<br>\n",
    "当然，DataFrame还有很多算术运算，如减法，除法等，有兴趣的同学可以看《利用Python进行数据分析》第五章 算术运算与数据对齐 部分，多在网络上查找相关学习资料。"
   ]
  },
  {
   "cell_type": "markdown",
   "metadata": {},
   "source": [
    "#### 1.6.4 任务四：通过泰坦尼克号数据如何计算出在船上最大的家族有多少人？"
   ]
  },
  {
   "cell_type": "code",
   "execution_count": null,
   "metadata": {},
   "outputs": [],
   "source": [
    "'''\n",
    "还是用之前导入的chinese_train.csv如果我们想看看在船上，最大的家族有多少人（‘兄弟姐妹个数’+‘父母子女个数’），我们该怎么做呢？\n",
    "'''\n"
   ]
  },
  {
   "cell_type": "code",
   "execution_count": 9,
   "metadata": {},
   "outputs": [
    {
     "data": {
      "text/plain": "10"
     },
     "execution_count": 9,
     "metadata": {},
     "output_type": "execute_result"
    }
   ],
   "source": [
    "#代码\n",
    "(data[\"SibSp\"] + data[\"Parch\"]).sort_values(ascending=False).max()"
   ]
  },
  {
   "cell_type": "markdown",
   "metadata": {},
   "source": [
    "【提醒】我们只需找出”兄弟姐妹个数“和”父母子女个数“之和最大的数，当然你还可以想出很多方法和思考角度，欢迎你来说出你的看法。"
   ]
  },
  {
   "cell_type": "markdown",
   "metadata": {},
   "source": [
    "**多做几个数据的相加，看看你能分析出什么？**"
   ]
  },
  {
   "cell_type": "markdown",
   "source": [
    "通过传入bool型series检索"
   ],
   "metadata": {
    "collapsed": false,
    "pycharm": {
     "name": "#%% md\n"
    }
   }
  },
  {
   "cell_type": "code",
   "execution_count": 10,
   "metadata": {},
   "outputs": [
    {
     "data": {
      "text/plain": "     PassengerId  Survived  Pclass                               Name     Sex  \\\n159          160         0       3         Sage, Master. Thomas Henry    male   \n180          181         0       3       Sage, Miss. Constance Gladys  female   \n201          202         0       3                Sage, Mr. Frederick    male   \n324          325         0       3           Sage, Mr. George John Jr    male   \n792          793         0       3            Sage, Miss. Stella Anna  female   \n846          847         0       3           Sage, Mr. Douglas Bullen    male   \n863          864         0       3  Sage, Miss. Dorothy Edith \"Dolly\"  female   \n\n     Age  SibSp  Parch    Ticket   Fare Cabin Embarked  \n159  NaN      8      2  CA. 2343  69.55   NaN        S  \n180  NaN      8      2  CA. 2343  69.55   NaN        S  \n201  NaN      8      2  CA. 2343  69.55   NaN        S  \n324  NaN      8      2  CA. 2343  69.55   NaN        S  \n792  NaN      8      2  CA. 2343  69.55   NaN        S  \n846  NaN      8      2  CA. 2343  69.55   NaN        S  \n863  NaN      8      2  CA. 2343  69.55   NaN        S  ",
      "text/html": "<div>\n<style scoped>\n    .dataframe tbody tr th:only-of-type {\n        vertical-align: middle;\n    }\n\n    .dataframe tbody tr th {\n        vertical-align: top;\n    }\n\n    .dataframe thead th {\n        text-align: right;\n    }\n</style>\n<table border=\"1\" class=\"dataframe\">\n  <thead>\n    <tr style=\"text-align: right;\">\n      <th></th>\n      <th>PassengerId</th>\n      <th>Survived</th>\n      <th>Pclass</th>\n      <th>Name</th>\n      <th>Sex</th>\n      <th>Age</th>\n      <th>SibSp</th>\n      <th>Parch</th>\n      <th>Ticket</th>\n      <th>Fare</th>\n      <th>Cabin</th>\n      <th>Embarked</th>\n    </tr>\n  </thead>\n  <tbody>\n    <tr>\n      <th>159</th>\n      <td>160</td>\n      <td>0</td>\n      <td>3</td>\n      <td>Sage, Master. Thomas Henry</td>\n      <td>male</td>\n      <td>NaN</td>\n      <td>8</td>\n      <td>2</td>\n      <td>CA. 2343</td>\n      <td>69.55</td>\n      <td>NaN</td>\n      <td>S</td>\n    </tr>\n    <tr>\n      <th>180</th>\n      <td>181</td>\n      <td>0</td>\n      <td>3</td>\n      <td>Sage, Miss. Constance Gladys</td>\n      <td>female</td>\n      <td>NaN</td>\n      <td>8</td>\n      <td>2</td>\n      <td>CA. 2343</td>\n      <td>69.55</td>\n      <td>NaN</td>\n      <td>S</td>\n    </tr>\n    <tr>\n      <th>201</th>\n      <td>202</td>\n      <td>0</td>\n      <td>3</td>\n      <td>Sage, Mr. Frederick</td>\n      <td>male</td>\n      <td>NaN</td>\n      <td>8</td>\n      <td>2</td>\n      <td>CA. 2343</td>\n      <td>69.55</td>\n      <td>NaN</td>\n      <td>S</td>\n    </tr>\n    <tr>\n      <th>324</th>\n      <td>325</td>\n      <td>0</td>\n      <td>3</td>\n      <td>Sage, Mr. George John Jr</td>\n      <td>male</td>\n      <td>NaN</td>\n      <td>8</td>\n      <td>2</td>\n      <td>CA. 2343</td>\n      <td>69.55</td>\n      <td>NaN</td>\n      <td>S</td>\n    </tr>\n    <tr>\n      <th>792</th>\n      <td>793</td>\n      <td>0</td>\n      <td>3</td>\n      <td>Sage, Miss. Stella Anna</td>\n      <td>female</td>\n      <td>NaN</td>\n      <td>8</td>\n      <td>2</td>\n      <td>CA. 2343</td>\n      <td>69.55</td>\n      <td>NaN</td>\n      <td>S</td>\n    </tr>\n    <tr>\n      <th>846</th>\n      <td>847</td>\n      <td>0</td>\n      <td>3</td>\n      <td>Sage, Mr. Douglas Bullen</td>\n      <td>male</td>\n      <td>NaN</td>\n      <td>8</td>\n      <td>2</td>\n      <td>CA. 2343</td>\n      <td>69.55</td>\n      <td>NaN</td>\n      <td>S</td>\n    </tr>\n    <tr>\n      <th>863</th>\n      <td>864</td>\n      <td>0</td>\n      <td>3</td>\n      <td>Sage, Miss. Dorothy Edith \"Dolly\"</td>\n      <td>female</td>\n      <td>NaN</td>\n      <td>8</td>\n      <td>2</td>\n      <td>CA. 2343</td>\n      <td>69.55</td>\n      <td>NaN</td>\n      <td>S</td>\n    </tr>\n  </tbody>\n</table>\n</div>"
     },
     "execution_count": 10,
     "metadata": {},
     "output_type": "execute_result"
    }
   ],
   "source": [
    "#代码\n",
    "data[(data[\"SibSp\"] + data[\"Parch\"]) == (data[\"SibSp\"] + data[\"Parch\"]).sort_values(ascending=False).max()]"
   ]
  },
  {
   "cell_type": "code",
   "execution_count": 5,
   "metadata": {},
   "outputs": [],
   "source": [
    "#写下你的其他分析\n",
    "\n",
    "\n",
    "\n",
    "\n",
    "\n"
   ]
  },
  {
   "cell_type": "markdown",
   "metadata": {},
   "source": [
    "#### 1.6.5 任务五：学会使用Pandas describe()函数查看数据基本统计信息"
   ]
  },
  {
   "cell_type": "code",
   "execution_count": 13,
   "metadata": {},
   "outputs": [],
   "source": [
    "#(1) 关键知识点示例做一遍（简单数据）\n",
    "# 具体请看《利用Python进行数据分析》第五章 汇总和计算描述统计 部分\n",
    "\n",
    "#自己构建一个有数字有空值的DataFrame数据\n",
    "\n",
    "\n",
    "\"\"\"\n",
    "我们举了一个例子：\n",
    "frame2 = pd.DataFrame([[1.4, np.nan], \n",
    "                       [7.1, -4.5],\n",
    "                       [np.nan, np.nan], \n",
    "                       [0.75, -1.3]\n",
    "                      ], index=['a', 'b', 'c', 'd'], columns=['one', 'two'])\n",
    "frame2\n",
    "\n",
    "\"\"\""
   ]
  },
  {
   "cell_type": "code",
   "execution_count": 14,
   "metadata": {},
   "outputs": [],
   "source": [
    "#代码\n",
    "frame_test = pd.DataFrame([\n",
    "    [1,2,3],\n",
    "    [4, 5, np.nan],\n",
    "    [7,8,9]\n",
    "], index=[\"a\", \"b\", \"c\"], columns=[\"c1\", \"c2\", \"c3\"])"
   ]
  },
  {
   "cell_type": "markdown",
   "metadata": {},
   "source": [
    "调用 describe 函数，观察frame2的数据基本信息"
   ]
  },
  {
   "cell_type": "code",
   "execution_count": 15,
   "metadata": {},
   "outputs": [
    {
     "data": {
      "text/plain": "        c1   c2        c3\ncount  3.0  3.0  2.000000\nmean   4.0  5.0  6.000000\nstd    3.0  3.0  4.242641\nmin    1.0  2.0  3.000000\n25%    2.5  3.5  4.500000\n50%    4.0  5.0  6.000000\n75%    5.5  6.5  7.500000\nmax    7.0  8.0  9.000000",
      "text/html": "<div>\n<style scoped>\n    .dataframe tbody tr th:only-of-type {\n        vertical-align: middle;\n    }\n\n    .dataframe tbody tr th {\n        vertical-align: top;\n    }\n\n    .dataframe thead th {\n        text-align: right;\n    }\n</style>\n<table border=\"1\" class=\"dataframe\">\n  <thead>\n    <tr style=\"text-align: right;\">\n      <th></th>\n      <th>c1</th>\n      <th>c2</th>\n      <th>c3</th>\n    </tr>\n  </thead>\n  <tbody>\n    <tr>\n      <th>count</th>\n      <td>3.0</td>\n      <td>3.0</td>\n      <td>2.000000</td>\n    </tr>\n    <tr>\n      <th>mean</th>\n      <td>4.0</td>\n      <td>5.0</td>\n      <td>6.000000</td>\n    </tr>\n    <tr>\n      <th>std</th>\n      <td>3.0</td>\n      <td>3.0</td>\n      <td>4.242641</td>\n    </tr>\n    <tr>\n      <th>min</th>\n      <td>1.0</td>\n      <td>2.0</td>\n      <td>3.000000</td>\n    </tr>\n    <tr>\n      <th>25%</th>\n      <td>2.5</td>\n      <td>3.5</td>\n      <td>4.500000</td>\n    </tr>\n    <tr>\n      <th>50%</th>\n      <td>4.0</td>\n      <td>5.0</td>\n      <td>6.000000</td>\n    </tr>\n    <tr>\n      <th>75%</th>\n      <td>5.5</td>\n      <td>6.5</td>\n      <td>7.500000</td>\n    </tr>\n    <tr>\n      <th>max</th>\n      <td>7.0</td>\n      <td>8.0</td>\n      <td>9.000000</td>\n    </tr>\n  </tbody>\n</table>\n</div>"
     },
     "execution_count": 15,
     "metadata": {},
     "output_type": "execute_result"
    }
   ],
   "source": [
    "#代码\n",
    "frame_test.describe()"
   ]
  },
  {
   "cell_type": "markdown",
   "metadata": {},
   "source": [
    "#### 1.6.6 任务六：分别看看泰坦尼克号数据集中 票价、父母子女 这列数据的基本统计数据，你能发现什么？"
   ]
  },
  {
   "cell_type": "code",
   "execution_count": null,
   "metadata": {},
   "outputs": [],
   "source": [
    "'''\n",
    "看看泰坦尼克号数据集中 票价 这列数据的基本统计数据\n",
    "'''"
   ]
  },
  {
   "cell_type": "code",
   "execution_count": 20,
   "metadata": {},
   "outputs": [
    {
     "data": {
      "text/plain": "             Fare       Parch\ncount  891.000000  891.000000\nmean    32.204208    0.381594\nstd     49.693429    0.806057\nmin      0.000000    0.000000\n25%      7.910400    0.000000\n50%     14.454200    0.000000\n75%     31.000000    0.000000\nmax    512.329200    6.000000",
      "text/html": "<div>\n<style scoped>\n    .dataframe tbody tr th:only-of-type {\n        vertical-align: middle;\n    }\n\n    .dataframe tbody tr th {\n        vertical-align: top;\n    }\n\n    .dataframe thead th {\n        text-align: right;\n    }\n</style>\n<table border=\"1\" class=\"dataframe\">\n  <thead>\n    <tr style=\"text-align: right;\">\n      <th></th>\n      <th>Fare</th>\n      <th>Parch</th>\n    </tr>\n  </thead>\n  <tbody>\n    <tr>\n      <th>count</th>\n      <td>891.000000</td>\n      <td>891.000000</td>\n    </tr>\n    <tr>\n      <th>mean</th>\n      <td>32.204208</td>\n      <td>0.381594</td>\n    </tr>\n    <tr>\n      <th>std</th>\n      <td>49.693429</td>\n      <td>0.806057</td>\n    </tr>\n    <tr>\n      <th>min</th>\n      <td>0.000000</td>\n      <td>0.000000</td>\n    </tr>\n    <tr>\n      <th>25%</th>\n      <td>7.910400</td>\n      <td>0.000000</td>\n    </tr>\n    <tr>\n      <th>50%</th>\n      <td>14.454200</td>\n      <td>0.000000</td>\n    </tr>\n    <tr>\n      <th>75%</th>\n      <td>31.000000</td>\n      <td>0.000000</td>\n    </tr>\n    <tr>\n      <th>max</th>\n      <td>512.329200</td>\n      <td>6.000000</td>\n    </tr>\n  </tbody>\n</table>\n</div>"
     },
     "execution_count": 20,
     "metadata": {},
     "output_type": "execute_result"
    }
   ],
   "source": [
    "#代码\n",
    "data.describe()[[\"Fare\", \"Parch\"]]"
   ]
  },
  {
   "cell_type": "markdown",
   "metadata": {},
   "source": [
    "【思考】从上面数据我们可以看出，试试在下面写出你的看法。然后看看我们给出的答案。\n",
    "\n",
    "当然，答案只是我的想法，你还可以有更多想法，欢迎写在你的学习笔记中。"
   ]
  },
  {
   "cell_type": "markdown",
   "metadata": {},
   "source": [
    "**多做几个组数据的统计，看看你能分析出什么？**"
   ]
  },
  {
   "cell_type": "code",
   "execution_count": 22,
   "outputs": [
    {
     "data": {
      "text/plain": "     PassengerId  Survived  Pclass  \\\n0              1         0       3   \n1              2         1       1   \n2              3         1       3   \n3              4         1       1   \n4              5         0       3   \n..           ...       ...     ...   \n886          887         0       2   \n887          888         1       1   \n888          889         0       3   \n889          890         1       1   \n890          891         0       3   \n\n                                                  Name     Sex   Age  SibSp  \\\n0                              Braund, Mr. Owen Harris    male  22.0      1   \n1    Cumings, Mrs. John Bradley (Florence Briggs Th...  female  38.0      1   \n2                               Heikkinen, Miss. Laina  female  26.0      0   \n3         Futrelle, Mrs. Jacques Heath (Lily May Peel)  female  35.0      1   \n4                             Allen, Mr. William Henry    male  35.0      0   \n..                                                 ...     ...   ...    ...   \n886                              Montvila, Rev. Juozas    male  27.0      0   \n887                       Graham, Miss. Margaret Edith  female  19.0      0   \n888           Johnston, Miss. Catherine Helen \"Carrie\"  female   NaN      1   \n889                              Behr, Mr. Karl Howell    male  26.0      0   \n890                                Dooley, Mr. Patrick    male  32.0      0   \n\n     Parch            Ticket     Fare Cabin Embarked  \n0        0         A/5 21171   7.2500   NaN        S  \n1        0          PC 17599  71.2833   C85        C  \n2        0  STON/O2. 3101282   7.9250   NaN        S  \n3        0            113803  53.1000  C123        S  \n4        0            373450   8.0500   NaN        S  \n..     ...               ...      ...   ...      ...  \n886      0            211536  13.0000   NaN        S  \n887      0            112053  30.0000   B42        S  \n888      2        W./C. 6607  23.4500   NaN        S  \n889      0            111369  30.0000  C148        C  \n890      0            370376   7.7500   NaN        Q  \n\n[891 rows x 12 columns]",
      "text/html": "<div>\n<style scoped>\n    .dataframe tbody tr th:only-of-type {\n        vertical-align: middle;\n    }\n\n    .dataframe tbody tr th {\n        vertical-align: top;\n    }\n\n    .dataframe thead th {\n        text-align: right;\n    }\n</style>\n<table border=\"1\" class=\"dataframe\">\n  <thead>\n    <tr style=\"text-align: right;\">\n      <th></th>\n      <th>PassengerId</th>\n      <th>Survived</th>\n      <th>Pclass</th>\n      <th>Name</th>\n      <th>Sex</th>\n      <th>Age</th>\n      <th>SibSp</th>\n      <th>Parch</th>\n      <th>Ticket</th>\n      <th>Fare</th>\n      <th>Cabin</th>\n      <th>Embarked</th>\n    </tr>\n  </thead>\n  <tbody>\n    <tr>\n      <th>0</th>\n      <td>1</td>\n      <td>0</td>\n      <td>3</td>\n      <td>Braund, Mr. Owen Harris</td>\n      <td>male</td>\n      <td>22.0</td>\n      <td>1</td>\n      <td>0</td>\n      <td>A/5 21171</td>\n      <td>7.2500</td>\n      <td>NaN</td>\n      <td>S</td>\n    </tr>\n    <tr>\n      <th>1</th>\n      <td>2</td>\n      <td>1</td>\n      <td>1</td>\n      <td>Cumings, Mrs. John Bradley (Florence Briggs Th...</td>\n      <td>female</td>\n      <td>38.0</td>\n      <td>1</td>\n      <td>0</td>\n      <td>PC 17599</td>\n      <td>71.2833</td>\n      <td>C85</td>\n      <td>C</td>\n    </tr>\n    <tr>\n      <th>2</th>\n      <td>3</td>\n      <td>1</td>\n      <td>3</td>\n      <td>Heikkinen, Miss. Laina</td>\n      <td>female</td>\n      <td>26.0</td>\n      <td>0</td>\n      <td>0</td>\n      <td>STON/O2. 3101282</td>\n      <td>7.9250</td>\n      <td>NaN</td>\n      <td>S</td>\n    </tr>\n    <tr>\n      <th>3</th>\n      <td>4</td>\n      <td>1</td>\n      <td>1</td>\n      <td>Futrelle, Mrs. Jacques Heath (Lily May Peel)</td>\n      <td>female</td>\n      <td>35.0</td>\n      <td>1</td>\n      <td>0</td>\n      <td>113803</td>\n      <td>53.1000</td>\n      <td>C123</td>\n      <td>S</td>\n    </tr>\n    <tr>\n      <th>4</th>\n      <td>5</td>\n      <td>0</td>\n      <td>3</td>\n      <td>Allen, Mr. William Henry</td>\n      <td>male</td>\n      <td>35.0</td>\n      <td>0</td>\n      <td>0</td>\n      <td>373450</td>\n      <td>8.0500</td>\n      <td>NaN</td>\n      <td>S</td>\n    </tr>\n    <tr>\n      <th>...</th>\n      <td>...</td>\n      <td>...</td>\n      <td>...</td>\n      <td>...</td>\n      <td>...</td>\n      <td>...</td>\n      <td>...</td>\n      <td>...</td>\n      <td>...</td>\n      <td>...</td>\n      <td>...</td>\n      <td>...</td>\n    </tr>\n    <tr>\n      <th>886</th>\n      <td>887</td>\n      <td>0</td>\n      <td>2</td>\n      <td>Montvila, Rev. Juozas</td>\n      <td>male</td>\n      <td>27.0</td>\n      <td>0</td>\n      <td>0</td>\n      <td>211536</td>\n      <td>13.0000</td>\n      <td>NaN</td>\n      <td>S</td>\n    </tr>\n    <tr>\n      <th>887</th>\n      <td>888</td>\n      <td>1</td>\n      <td>1</td>\n      <td>Graham, Miss. Margaret Edith</td>\n      <td>female</td>\n      <td>19.0</td>\n      <td>0</td>\n      <td>0</td>\n      <td>112053</td>\n      <td>30.0000</td>\n      <td>B42</td>\n      <td>S</td>\n    </tr>\n    <tr>\n      <th>888</th>\n      <td>889</td>\n      <td>0</td>\n      <td>3</td>\n      <td>Johnston, Miss. Catherine Helen \"Carrie\"</td>\n      <td>female</td>\n      <td>NaN</td>\n      <td>1</td>\n      <td>2</td>\n      <td>W./C. 6607</td>\n      <td>23.4500</td>\n      <td>NaN</td>\n      <td>S</td>\n    </tr>\n    <tr>\n      <th>889</th>\n      <td>890</td>\n      <td>1</td>\n      <td>1</td>\n      <td>Behr, Mr. Karl Howell</td>\n      <td>male</td>\n      <td>26.0</td>\n      <td>0</td>\n      <td>0</td>\n      <td>111369</td>\n      <td>30.0000</td>\n      <td>C148</td>\n      <td>C</td>\n    </tr>\n    <tr>\n      <th>890</th>\n      <td>891</td>\n      <td>0</td>\n      <td>3</td>\n      <td>Dooley, Mr. Patrick</td>\n      <td>male</td>\n      <td>32.0</td>\n      <td>0</td>\n      <td>0</td>\n      <td>370376</td>\n      <td>7.7500</td>\n      <td>NaN</td>\n      <td>Q</td>\n    </tr>\n  </tbody>\n</table>\n<p>891 rows × 12 columns</p>\n</div>"
     },
     "execution_count": 22,
     "metadata": {},
     "output_type": "execute_result"
    }
   ],
   "source": [
    "data"
   ],
   "metadata": {
    "collapsed": false,
    "pycharm": {
     "name": "#%%\n"
    }
   }
  },
  {
   "cell_type": "code",
   "execution_count": 21,
   "metadata": {},
   "outputs": [
    {
     "data": {
      "text/plain": "       PassengerId    Survived      Pclass         Age       SibSp  \\\ncount   891.000000  891.000000  891.000000  714.000000  891.000000   \nmean    446.000000    0.383838    2.308642   29.699118    0.523008   \nstd     257.353842    0.486592    0.836071   14.526497    1.102743   \nmin       1.000000    0.000000    1.000000    0.420000    0.000000   \n25%     223.500000    0.000000    2.000000   20.125000    0.000000   \n50%     446.000000    0.000000    3.000000   28.000000    0.000000   \n75%     668.500000    1.000000    3.000000   38.000000    1.000000   \nmax     891.000000    1.000000    3.000000   80.000000    8.000000   \n\n            Parch        Fare  \ncount  891.000000  891.000000  \nmean     0.381594   32.204208  \nstd      0.806057   49.693429  \nmin      0.000000    0.000000  \n25%      0.000000    7.910400  \n50%      0.000000   14.454200  \n75%      0.000000   31.000000  \nmax      6.000000  512.329200  ",
      "text/html": "<div>\n<style scoped>\n    .dataframe tbody tr th:only-of-type {\n        vertical-align: middle;\n    }\n\n    .dataframe tbody tr th {\n        vertical-align: top;\n    }\n\n    .dataframe thead th {\n        text-align: right;\n    }\n</style>\n<table border=\"1\" class=\"dataframe\">\n  <thead>\n    <tr style=\"text-align: right;\">\n      <th></th>\n      <th>PassengerId</th>\n      <th>Survived</th>\n      <th>Pclass</th>\n      <th>Age</th>\n      <th>SibSp</th>\n      <th>Parch</th>\n      <th>Fare</th>\n    </tr>\n  </thead>\n  <tbody>\n    <tr>\n      <th>count</th>\n      <td>891.000000</td>\n      <td>891.000000</td>\n      <td>891.000000</td>\n      <td>714.000000</td>\n      <td>891.000000</td>\n      <td>891.000000</td>\n      <td>891.000000</td>\n    </tr>\n    <tr>\n      <th>mean</th>\n      <td>446.000000</td>\n      <td>0.383838</td>\n      <td>2.308642</td>\n      <td>29.699118</td>\n      <td>0.523008</td>\n      <td>0.381594</td>\n      <td>32.204208</td>\n    </tr>\n    <tr>\n      <th>std</th>\n      <td>257.353842</td>\n      <td>0.486592</td>\n      <td>0.836071</td>\n      <td>14.526497</td>\n      <td>1.102743</td>\n      <td>0.806057</td>\n      <td>49.693429</td>\n    </tr>\n    <tr>\n      <th>min</th>\n      <td>1.000000</td>\n      <td>0.000000</td>\n      <td>1.000000</td>\n      <td>0.420000</td>\n      <td>0.000000</td>\n      <td>0.000000</td>\n      <td>0.000000</td>\n    </tr>\n    <tr>\n      <th>25%</th>\n      <td>223.500000</td>\n      <td>0.000000</td>\n      <td>2.000000</td>\n      <td>20.125000</td>\n      <td>0.000000</td>\n      <td>0.000000</td>\n      <td>7.910400</td>\n    </tr>\n    <tr>\n      <th>50%</th>\n      <td>446.000000</td>\n      <td>0.000000</td>\n      <td>3.000000</td>\n      <td>28.000000</td>\n      <td>0.000000</td>\n      <td>0.000000</td>\n      <td>14.454200</td>\n    </tr>\n    <tr>\n      <th>75%</th>\n      <td>668.500000</td>\n      <td>1.000000</td>\n      <td>3.000000</td>\n      <td>38.000000</td>\n      <td>1.000000</td>\n      <td>0.000000</td>\n      <td>31.000000</td>\n    </tr>\n    <tr>\n      <th>max</th>\n      <td>891.000000</td>\n      <td>1.000000</td>\n      <td>3.000000</td>\n      <td>80.000000</td>\n      <td>8.000000</td>\n      <td>6.000000</td>\n      <td>512.329200</td>\n    </tr>\n  </tbody>\n</table>\n</div>"
     },
     "execution_count": 21,
     "metadata": {},
     "output_type": "execute_result"
    }
   ],
   "source": [
    "# 写下你的其他分析\n",
    "\n",
    "data.describe()\n"
   ]
  },
  {
   "cell_type": "markdown",
   "source": [
    "超过50%的人死亡，超过50%的人在三等舱，船上人员平均年龄低于30岁，并主要集中在低年龄段，一半以上未与家人同行"
   ],
   "metadata": {
    "collapsed": false,
    "pycharm": {
     "name": "#%% md\n"
    }
   }
  },
  {
   "cell_type": "markdown",
   "metadata": {},
   "source": [
    "【思考】有更多想法，欢迎写在你的学习笔记中。"
   ]
  },
  {
   "cell_type": "markdown",
   "metadata": {},
   "source": [
    "【总结】本节中我们通过Pandas的一些内置函数对数据进行了初步统计查看，这个过程最重要的不是大家得掌握这些函数，而是看懂从这些函数出来的数据，构建自己的数据分析思维，这也是第一章最重要的点，希望大家学完第一章能对数据有个基本认识，了解自己在做什么，为什么这么做，后面的章节我们将开始对数据进行清洗，进一步分析。"
   ]
  }
 ],
 "metadata": {
  "kernelspec": {
   "display_name": "Python 3",
   "language": "python",
   "name": "python3"
  },
  "language_info": {
   "codemirror_mode": {
    "name": "ipython",
    "version": 3
   },
   "file_extension": ".py",
   "mimetype": "text/x-python",
   "name": "python",
   "nbconvert_exporter": "python",
   "pygments_lexer": "ipython3",
   "version": "3.6.12"
  },
  "toc": {
   "base_numbering": 1,
   "nav_menu": {},
   "number_sections": false,
   "sideBar": true,
   "skip_h1_title": false,
   "title_cell": "Table of Contents",
   "title_sidebar": "Contents",
   "toc_cell": false,
   "toc_position": {
    "height": "calc(100% - 180px)",
    "left": "10px",
    "top": "150px",
    "width": "433px"
   },
   "toc_section_display": true,
   "toc_window_display": true
  }
 },
 "nbformat": 4,
 "nbformat_minor": 4
}